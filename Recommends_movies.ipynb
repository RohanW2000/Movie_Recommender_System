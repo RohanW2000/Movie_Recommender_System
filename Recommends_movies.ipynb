{
 "cells": [
  {
   "cell_type": "markdown",
   "id": "fb02f6af",
   "metadata": {},
   "source": [
    "# Importing Libraries"
   ]
  },
  {
   "cell_type": "code",
   "execution_count": null,
   "id": "72c00e44",
   "metadata": {},
   "outputs": [],
   "source": [
    "import pandas as pd\n",
    "import numpy as np\n",
    "import warnings\n",
    "warnings.filterwarnings(\"ignore\")\n",
    "import ast"
   ]
  },
  {
   "cell_type": "code",
   "execution_count": null,
   "id": "1d75bcde",
   "metadata": {},
   "outputs": [],
   "source": [
    "movies= pd.read_csv(\"tmdb_5000_movies.csv\")\n",
    "credit= pd.read_csv(\"tmdb_5000_credits.csv\")"
   ]
  },
  {
   "cell_type": "code",
   "execution_count": null,
   "id": "ff427117",
   "metadata": {},
   "outputs": [],
   "source": [
    "movies.head(1)"
   ]
  },
  {
   "cell_type": "code",
   "execution_count": null,
   "id": "f56011f3",
   "metadata": {},
   "outputs": [],
   "source": [
    "credit.head(1)"
   ]
  },
  {
   "cell_type": "code",
   "execution_count": null,
   "id": "facf6e74",
   "metadata": {},
   "outputs": [],
   "source": [
    "movies=movies.merge(credit, on=\"title\")"
   ]
  },
  {
   "cell_type": "code",
   "execution_count": null,
   "id": "a9e6dacf",
   "metadata": {},
   "outputs": [],
   "source": [
    "movies.head(1)"
   ]
  },
  {
   "cell_type": "code",
   "execution_count": null,
   "id": "e515b894",
   "metadata": {},
   "outputs": [],
   "source": [
    "movies.shape"
   ]
  },
  {
   "cell_type": "code",
   "execution_count": null,
   "id": "63ba87b7",
   "metadata": {},
   "outputs": [],
   "source": [
    "# genres, id, keywords, title, overview, cast, crew\n",
    "\n",
    "movies=movies[[\"movie_id\", \"title\",\"overview\", \"genres\",\"keywords\", \"cast\", \"crew\"]]"
   ]
  },
  {
   "cell_type": "code",
   "execution_count": null,
   "id": "4367e197",
   "metadata": {},
   "outputs": [],
   "source": [
    "movies.info()"
   ]
  },
  {
   "cell_type": "code",
   "execution_count": null,
   "id": "00fa67a3",
   "metadata": {},
   "outputs": [],
   "source": [
    "movies.isnull().sum()"
   ]
  },
  {
   "cell_type": "code",
   "execution_count": null,
   "id": "48d8d94a",
   "metadata": {},
   "outputs": [],
   "source": [
    "movies.dropna(inplace=True)"
   ]
  },
  {
   "cell_type": "code",
   "execution_count": null,
   "id": "79d08b30",
   "metadata": {},
   "outputs": [],
   "source": [
    "movies.duplicated().sum()"
   ]
  },
  {
   "cell_type": "code",
   "execution_count": null,
   "id": "2980cabc",
   "metadata": {},
   "outputs": [],
   "source": [
    "movies.shape"
   ]
  },
  {
   "cell_type": "markdown",
   "id": "bad888bd",
   "metadata": {},
   "source": [
    "# Data Preprocessing"
   ]
  },
  {
   "cell_type": "code",
   "execution_count": null,
   "id": "366c9299",
   "metadata": {},
   "outputs": [],
   "source": [
    "movies[\"genres\"].values"
   ]
  },
  {
   "cell_type": "code",
   "execution_count": null,
   "id": "0935ad3f",
   "metadata": {},
   "outputs": [],
   "source": [
    "import ast\n",
    "\n",
    "def convert(obj):\n",
    "    L = []\n",
    "    for i in ast.literal_eval(obj):\n",
    "        L.append(i[\"name\"])\n",
    "    return L\n"
   ]
  },
  {
   "cell_type": "code",
   "execution_count": null,
   "id": "df0122bd",
   "metadata": {},
   "outputs": [],
   "source": [
    "# '[{\"id\": 28, \"name\": \"Action\"}, {\"id\": 12, \"name\": \"Adventure\"}, {\"id\": 14, \"name\": \"Fantasy\"}, {\"id\": 878, \"name\": \"Science Fiction\"}]'\n",
    "\n",
    "# [\"Action\",\"Adventure\",\"Fantasy\",\"Science Fi\"]\n",
    "\n",
    "movies[\"genres\"]=movies[\"genres\"].apply(convert)"
   ]
  },
  {
   "cell_type": "code",
   "execution_count": null,
   "id": "b0a0bd90",
   "metadata": {},
   "outputs": [],
   "source": [
    "movies.head(1)"
   ]
  },
  {
   "cell_type": "code",
   "execution_count": null,
   "id": "3fce34fd",
   "metadata": {},
   "outputs": [],
   "source": [
    "movies.iloc[0].keywords"
   ]
  },
  {
   "cell_type": "code",
   "execution_count": null,
   "id": "1af0415a",
   "metadata": {},
   "outputs": [],
   "source": [
    "movies.iloc[0].genres"
   ]
  },
  {
   "cell_type": "code",
   "execution_count": null,
   "id": "470b591e",
   "metadata": {},
   "outputs": [],
   "source": [
    "movies[\"keywords\"]=movies[\"keywords\"].apply(convert)"
   ]
  },
  {
   "cell_type": "code",
   "execution_count": null,
   "id": "d6d9186b",
   "metadata": {},
   "outputs": [],
   "source": [
    "movies.head(1)"
   ]
  },
  {
   "cell_type": "code",
   "execution_count": null,
   "id": "a0178dfd",
   "metadata": {},
   "outputs": [],
   "source": [
    "movies[\"cast\"].values"
   ]
  },
  {
   "cell_type": "code",
   "execution_count": null,
   "id": "5b7ecbb3",
   "metadata": {},
   "outputs": [],
   "source": [
    "movies.iloc[0].cast"
   ]
  },
  {
   "cell_type": "code",
   "execution_count": null,
   "id": "11c287df",
   "metadata": {},
   "outputs": [],
   "source": [
    "def convert3(obj):\n",
    "    L=[]\n",
    "    counter=0\n",
    "    for i in ast.literal_eval(obj):\n",
    "        if counter < 3:\n",
    "            L.append(i[\"name\"])\n",
    "            counter+=1\n",
    "        else:\n",
    "            break\n",
    "    return L                       \n"
   ]
  },
  {
   "cell_type": "code",
   "execution_count": null,
   "id": "4befb83d",
   "metadata": {},
   "outputs": [],
   "source": [
    "#movies[\"genres\"].astype"
   ]
  },
  {
   "cell_type": "code",
   "execution_count": null,
   "id": "9bb0dfe5",
   "metadata": {},
   "outputs": [],
   "source": [
    "movies[\"cast\"]=movies[\"cast\"].apply(convert3)"
   ]
  },
  {
   "cell_type": "code",
   "execution_count": null,
   "id": "e3ba45d4",
   "metadata": {},
   "outputs": [],
   "source": [
    "movies.head(1)"
   ]
  },
  {
   "cell_type": "code",
   "execution_count": null,
   "id": "ac7165a8",
   "metadata": {},
   "outputs": [],
   "source": [
    "movies[\"crew\"][0]"
   ]
  },
  {
   "cell_type": "code",
   "execution_count": null,
   "id": "ddf9e580",
   "metadata": {},
   "outputs": [],
   "source": [
    "movies.iloc[0].crew"
   ]
  },
  {
   "cell_type": "code",
   "execution_count": null,
   "id": "1750ae8b",
   "metadata": {},
   "outputs": [],
   "source": [
    "movies[\"crew\"].values"
   ]
  },
  {
   "cell_type": "code",
   "execution_count": null,
   "id": "662ddc66",
   "metadata": {},
   "outputs": [],
   "source": [
    "def fetch_director(obj):\n",
    "    L=[]\n",
    "    for i in ast.literal_eval(obj):\n",
    "        if i[\"job\"]==\"Director\":\n",
    "            L.append(i[\"name\"])\n",
    "            break\n",
    "    return L"
   ]
  },
  {
   "cell_type": "code",
   "execution_count": null,
   "id": "fae504bb",
   "metadata": {},
   "outputs": [],
   "source": [
    "movies[\"crew\"]=movies[\"crew\"].apply(fetch_director)"
   ]
  },
  {
   "cell_type": "code",
   "execution_count": null,
   "id": "0a68ebb3",
   "metadata": {},
   "outputs": [],
   "source": [
    "movies.head(1)      "
   ]
  },
  {
   "cell_type": "code",
   "execution_count": null,
   "id": "aee1a528",
   "metadata": {},
   "outputs": [],
   "source": [
    "movies[\"overview\"][0]"
   ]
  },
  {
   "cell_type": "code",
   "execution_count": null,
   "id": "3aadf5a3",
   "metadata": {},
   "outputs": [],
   "source": [
    "movies.iloc[0].overview"
   ]
  },
  {
   "cell_type": "code",
   "execution_count": null,
   "id": "c740043f",
   "metadata": {},
   "outputs": [],
   "source": [
    "movies[\"overview\"].values"
   ]
  },
  {
   "cell_type": "code",
   "execution_count": null,
   "id": "ae92d0cc",
   "metadata": {},
   "outputs": [],
   "source": [
    "movies[\"overview\"]=movies[\"overview\"].apply(lambda x:x.split())"
   ]
  },
  {
   "cell_type": "code",
   "execution_count": null,
   "id": "b206ee10",
   "metadata": {},
   "outputs": [],
   "source": [
    "movies.head(1)"
   ]
  },
  {
   "cell_type": "code",
   "execution_count": null,
   "id": "06e57bf5",
   "metadata": {},
   "outputs": [],
   "source": [
    "movies[\"overview\"][0]"
   ]
  },
  {
   "cell_type": "code",
   "execution_count": null,
   "id": "2f5c2cd8",
   "metadata": {},
   "outputs": [],
   "source": [
    "def collapse(obj):\n",
    "    L1 = []\n",
    "    for i in obj:\n",
    "        L1.append(i.replace(\" \",\"\"))\n",
    "    return L1"
   ]
  },
  {
   "cell_type": "code",
   "execution_count": null,
   "id": "cbef052a",
   "metadata": {},
   "outputs": [],
   "source": [
    "movies[\"genres\"] = movies[\"genres\"].apply(collapse)\n",
    "movies[\"keywords\"] = movies[\"keywords\"].apply(collapse)\n",
    "movies[\"cast\"] = movies[\"cast\"].apply(collapse)\n",
    "movies[\"crew\"] = movies[\"crew\"].apply(collapse)\n"
   ]
  },
  {
   "cell_type": "code",
   "execution_count": null,
   "id": "5010ed4c",
   "metadata": {},
   "outputs": [],
   "source": [
    "movies.head(1)"
   ]
  },
  {
   "cell_type": "code",
   "execution_count": null,
   "id": "725a0702",
   "metadata": {},
   "outputs": [],
   "source": [
    "movies[\"tags\"]= movies[\"overview\"]+ movies[\"genres\"]+movies[\"keywords\"] + movies[\"cast\"] + movies[\"crew\"]"
   ]
  },
  {
   "cell_type": "code",
   "execution_count": null,
   "id": "08e298d8",
   "metadata": {},
   "outputs": [],
   "source": [
    "new_df= movies[[\"movie_id\", \"title\",\"tags\"]]"
   ]
  },
  {
   "cell_type": "code",
   "execution_count": null,
   "id": "82dbb145",
   "metadata": {},
   "outputs": [],
   "source": [
    "new_df"
   ]
  },
  {
   "cell_type": "code",
   "execution_count": null,
   "id": "53d1ef0e",
   "metadata": {},
   "outputs": [],
   "source": [
    "# Check if the element is a list (or any iterable) before joining\n",
    "new_df[\"tags\"] = new_df[\"tags\"].apply(lambda x: \" \".join(x))\n"
   ]
  },
  {
   "cell_type": "code",
   "execution_count": null,
   "id": "c8d1067f",
   "metadata": {},
   "outputs": [],
   "source": [
    "new_df.head()"
   ]
  },
  {
   "cell_type": "code",
   "execution_count": null,
   "id": "496f73e0",
   "metadata": {},
   "outputs": [],
   "source": [
    "new_df[\"tags\"][0]"
   ]
  },
  {
   "cell_type": "code",
   "execution_count": null,
   "id": "224736f2",
   "metadata": {},
   "outputs": [],
   "source": [
    "new_df[\"tags\"] = new_df[\"tags\"].apply(lambda x: x.lower())\n"
   ]
  },
  {
   "cell_type": "code",
   "execution_count": null,
   "id": "af73f62e",
   "metadata": {},
   "outputs": [],
   "source": [
    "new_df"
   ]
  },
  {
   "cell_type": "markdown",
   "id": "1404a1c1",
   "metadata": {},
   "source": [
    "# TEXT VECTORIZATION"
   ]
  },
  {
   "cell_type": "code",
   "execution_count": null,
   "id": "cd370969",
   "metadata": {},
   "outputs": [],
   "source": [
    "from sklearn.feature_extraction.text import CountVectorizer"
   ]
  },
  {
   "cell_type": "code",
   "execution_count": null,
   "id": "94585a9e",
   "metadata": {},
   "outputs": [],
   "source": [
    "cv= CountVectorizer(max_features=5000, stop_words=\"english\")"
   ]
  },
  {
   "cell_type": "code",
   "execution_count": null,
   "id": "139a8e2b",
   "metadata": {},
   "outputs": [],
   "source": [
    "vectors = cv.fit_transform(new_df[\"tags\"]).toarray()\n"
   ]
  },
  {
   "cell_type": "code",
   "execution_count": null,
   "id": "505a39d8",
   "metadata": {},
   "outputs": [],
   "source": [
    "vectors[0]"
   ]
  },
  {
   "cell_type": "code",
   "execution_count": null,
   "id": "2b3198a5",
   "metadata": {},
   "outputs": [],
   "source": [
    "vectors.shape"
   ]
  },
  {
   "cell_type": "code",
   "execution_count": null,
   "id": "4a623e42",
   "metadata": {},
   "outputs": [],
   "source": [
    "from sklearn.metrics.pairwise import cosine_similarity"
   ]
  },
  {
   "cell_type": "code",
   "execution_count": null,
   "id": "03069a31",
   "metadata": {},
   "outputs": [],
   "source": [
    "similarity=cosine_similarity(vectors)"
   ]
  },
  {
   "cell_type": "code",
   "execution_count": null,
   "id": "9b81214a",
   "metadata": {},
   "outputs": [],
   "source": [
    "similarity"
   ]
  },
  {
   "cell_type": "code",
   "execution_count": null,
   "id": "a78d596e",
   "metadata": {},
   "outputs": [],
   "source": [
    "similarity.shape"
   ]
  },
  {
   "cell_type": "code",
   "execution_count": null,
   "id": "0cc409b5",
   "metadata": {},
   "outputs": [],
   "source": [
    "index= new_df[new_df[\"title\"]== \"Avatar\"].index[0]\n",
    "index"
   ]
  },
  {
   "cell_type": "code",
   "execution_count": null,
   "id": "6cc11377",
   "metadata": {},
   "outputs": [],
   "source": [
    "distances= sorted(list(enumerate(similarity[0])), reverse=True, key= lambda x: x[1])\n",
    "distances"
   ]
  },
  {
   "cell_type": "code",
   "execution_count": null,
   "id": "77f11d89",
   "metadata": {},
   "outputs": [],
   "source": [
    "def recommend(movie):\n",
    "    index= new_df[new_df[\"title\"]== movie].index[0]\n",
    "    distances= sorted(list(enumerate(similarity[index])), reverse=True, key= lambda x: x[1])\n",
    "    for i in distances[1:6]:\n",
    "        print(new_df.iloc[i[0]].title)"
   ]
  },
  {
   "cell_type": "code",
   "execution_count": null,
   "id": "f7a827db",
   "metadata": {},
   "outputs": [],
   "source": [
    "recommend(\"Batman Begins\")"
   ]
  },
  {
   "cell_type": "markdown",
   "id": "e93247e8",
   "metadata": {},
   "source": [
    "# Deployment"
   ]
  },
  {
   "cell_type": "code",
   "execution_count": null,
   "id": "624ac186",
   "metadata": {},
   "outputs": [],
   "source": [
    "import pickle\n"
   ]
  },
  {
   "cell_type": "code",
   "execution_count": null,
   "id": "f0e9df9a",
   "metadata": {},
   "outputs": [],
   "source": [
    "pickle.dump(new_df.to_dict(), open(\"movies_dict.pkl\", \"wb\"))"
   ]
  },
  {
   "cell_type": "code",
   "execution_count": null,
   "id": "3d695686",
   "metadata": {},
   "outputs": [],
   "source": [
    "new_df.to_dict()"
   ]
  },
  {
   "cell_type": "code",
   "execution_count": null,
   "id": "1d602316",
   "metadata": {},
   "outputs": [],
   "source": [
    "pickle.dump(similarity, open(\"similarity.pkl\",\"wb\"))"
   ]
  },
  {
   "cell_type": "code",
   "execution_count": null,
   "id": "8cd03cf1",
   "metadata": {},
   "outputs": [],
   "source": []
  }
 ],
 "metadata": {
  "kernelspec": {
   "display_name": "Python 3 (ipykernel)",
   "language": "python",
   "name": "python3"
  },
  "language_info": {
   "codemirror_mode": {
    "name": "ipython",
    "version": 3
   },
   "file_extension": ".py",
   "mimetype": "text/x-python",
   "name": "python",
   "nbconvert_exporter": "python",
   "pygments_lexer": "ipython3",
   "version": "3.11.7"
  }
 },
 "nbformat": 4,
 "nbformat_minor": 5
}
